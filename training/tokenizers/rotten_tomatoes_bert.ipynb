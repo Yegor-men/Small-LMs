{
 "cells": [
  {
   "metadata": {},
   "cell_type": "markdown",
   "source": "## Import statements",
   "id": "7fac61a9935602e7"
  },
  {
   "metadata": {
    "ExecuteTime": {
     "end_time": "2025-04-08T05:46:20.488726Z",
     "start_time": "2025-04-08T05:46:20.487048Z"
    }
   },
   "cell_type": "code",
   "source": [
    "from datasets import load_dataset\n",
    "from tokenizers import (\n",
    "    decoders,\n",
    "    models,\n",
    "    normalizers,\n",
    "    pre_tokenizers,\n",
    "    processors,\n",
    "    trainers,\n",
    "    Tokenizer,\n",
    ")\n",
    "from transformers import AutoTokenizer, PreTrainedTokenizerFast"
   ],
   "id": "b5acac93baacec66",
   "outputs": [],
   "execution_count": 58
  },
  {
   "metadata": {},
   "cell_type": "markdown",
   "source": "## Data loading",
   "id": "264382bafc76e676"
  },
  {
   "cell_type": "code",
   "id": "initial_id",
   "metadata": {
    "collapsed": true,
    "ExecuteTime": {
     "end_time": "2025-04-08T05:46:25.690434Z",
     "start_time": "2025-04-08T05:46:20.530011Z"
    }
   },
   "source": [
    "dataset = load_dataset(\"rotten_tomatoes\", split=\"train\")\n",
    "\n",
    "\n",
    "def get_training_corpus():\n",
    "    for i in range(0, len(dataset), 1000):\n",
    "        yield dataset[i: i + 1000][\"text\"]"
   ],
   "outputs": [],
   "execution_count": 59
  },
  {
   "metadata": {},
   "cell_type": "markdown",
   "source": "## Initialization/training",
   "id": "5c68eb4070e02039"
  },
  {
   "metadata": {
    "ExecuteTime": {
     "end_time": "2025-04-08T05:46:25.887265Z",
     "start_time": "2025-04-08T05:46:25.699992Z"
    }
   },
   "cell_type": "code",
   "source": [
    "tokenizer = Tokenizer(models.WordPiece(unk_token=\"[UNK]\"))\n",
    "tokenizer.normalizer = normalizers.Sequence(\n",
    "    [normalizers.NFD(), normalizers.Lowercase(), normalizers.StripAccents()]\n",
    ")\n",
    "tokenizer.pre_tokenizer = pre_tokenizers.Sequence(\n",
    "    [pre_tokenizers.WhitespaceSplit(), pre_tokenizers.Punctuation()]\n",
    ")\n",
    "special_tokens = [\"[UNK]\", \"[PAD]\", \"[CLS]\", \"[SEP]\", \"[MASK]\"]\n",
    "trainer = trainers.WordPieceTrainer(vocab_size=25000, special_tokens=special_tokens)\n",
    "tokenizer.train_from_iterator(get_training_corpus(), trainer=trainer)\n",
    "tokenizer.decoder = decoders.WordPiece(prefix=\"##\")"
   ],
   "id": "c6403cb857fa2909",
   "outputs": [
    {
     "name": "stdout",
     "output_type": "stream",
     "text": [
      "\n",
      "\n",
      "\n"
     ]
    }
   ],
   "execution_count": 60
  },
  {
   "metadata": {},
   "cell_type": "markdown",
   "source": "## Testing",
   "id": "c15547d4842797f3"
  },
  {
   "metadata": {
    "ExecuteTime": {
     "end_time": "2025-04-08T05:46:25.898672Z",
     "start_time": "2025-04-08T05:46:25.896969Z"
    }
   },
   "cell_type": "code",
   "source": [
    "encoding = tokenizer.encode(\"Let's test this tokenizer.\")\n",
    "print(encoding.tokens)\n",
    "print(encoding.ids)\n",
    "print(tokenizer.decode(encoding.ids))"
   ],
   "id": "a37327cf8395b8ab",
   "outputs": [
    {
     "name": "stdout",
     "output_type": "stream",
     "text": [
      "['let', \"'\", 's', 'test', 'this', 'tok', '##eni', '##zer', '.']\n",
      "[1226, 11, 55, 2097, 183, 11558, 2487, 11435, 18]\n",
      "let ' s test this tokenizer.\n"
     ]
    }
   ],
   "execution_count": 61
  },
  {
   "metadata": {},
   "cell_type": "markdown",
   "source": "## Saving",
   "id": "fdc2d8d7e9e6bf6c"
  },
  {
   "metadata": {
    "ExecuteTime": {
     "end_time": "2025-04-08T05:46:25.959528Z",
     "start_time": "2025-04-08T05:46:25.940768Z"
    }
   },
   "cell_type": "code",
   "source": [
    "wrapped_tokenizer = PreTrainedTokenizerFast(\n",
    "    tokenizer_object=tokenizer,\n",
    "    # tokenizer_file=\"tokenizer.json\", # You can load from the tokenizer file, alternatively\n",
    "    unk_token=\"[UNK]\",\n",
    "    pad_token=\"[PAD]\",\n",
    "    cls_token=\"[CLS]\",\n",
    "    sep_token=\"[SEP]\",\n",
    "    mask_token=\"[MASK]\",\n",
    ")\n",
    "\n",
    "wrapped_tokenizer.save_pretrained(\"../../saved_models/tokenizers/rotten_tomatoes_bert_style\")"
   ],
   "id": "1cf126076556d1f9",
   "outputs": [
    {
     "data": {
      "text/plain": [
       "('../../saved_models/tokenizers/rotten_tomatoes_bert_style/tokenizer_config.json',\n",
       " '../../saved_models/tokenizers/rotten_tomatoes_bert_style/special_tokens_map.json',\n",
       " '../../saved_models/tokenizers/rotten_tomatoes_bert_style/tokenizer.json')"
      ]
     },
     "execution_count": 62,
     "metadata": {},
     "output_type": "execute_result"
    }
   ],
   "execution_count": 62
  },
  {
   "metadata": {
    "ExecuteTime": {
     "end_time": "2025-04-08T05:46:26.068684Z",
     "start_time": "2025-04-08T05:46:26.054073Z"
    }
   },
   "cell_type": "code",
   "source": [
    "tok = AutoTokenizer.from_pretrained(\"../../saved_models/tokenizers/rotten_tomatoes_bert_style\")\n",
    "\n",
    "tokens = tok.tokenize(\"Test number 2.!@#$%^&*()\")\n",
    "\n",
    "print(tokens)\n",
    "ids = tok.convert_tokens_to_ids(tokens)\n",
    "print(ids)\n",
    "decoded_string = tok.decode(ids)\n",
    "print(decoded_string)"
   ],
   "id": "c3bd6341db5e0347",
   "outputs": [
    {
     "name": "stdout",
     "output_type": "stream",
     "text": [
      "['test', 'number', '2', '.', '!', '[UNK]', '#', '$', '%', '[UNK]', '&', '*', '(', ')']\n",
      "[2097, 3216, 22, 18, 5, 0, 7, 8, 9, 0, 10, 14, 12, 13]\n",
      "test number 2.! [UNK] # $ % [UNK] & * ( )\n"
     ]
    }
   ],
   "execution_count": 63
  }
 ],
 "metadata": {
  "kernelspec": {
   "display_name": "Python 3",
   "language": "python",
   "name": "python3"
  },
  "language_info": {
   "codemirror_mode": {
    "name": "ipython",
    "version": 2
   },
   "file_extension": ".py",
   "mimetype": "text/x-python",
   "name": "python",
   "nbconvert_exporter": "python",
   "pygments_lexer": "ipython2",
   "version": "2.7.6"
  }
 },
 "nbformat": 4,
 "nbformat_minor": 5
}
