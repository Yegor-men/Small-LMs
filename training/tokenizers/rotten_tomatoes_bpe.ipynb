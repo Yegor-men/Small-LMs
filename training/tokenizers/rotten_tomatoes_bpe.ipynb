{
 "cells": [
  {
   "metadata": {},
   "cell_type": "markdown",
   "source": "## Import statements",
   "id": "7fac61a9935602e7"
  },
  {
   "metadata": {
    "ExecuteTime": {
     "end_time": "2025-04-08T06:16:53.675189Z",
     "start_time": "2025-04-08T06:16:53.673523Z"
    }
   },
   "cell_type": "code",
   "source": [
    "from datasets import load_dataset\n",
    "from tokenizers import (\n",
    "    decoders,\n",
    "    models,\n",
    "    normalizers,\n",
    "    pre_tokenizers,\n",
    "    processors,\n",
    "    trainers,\n",
    "    Tokenizer,\n",
    ")\n",
    "from transformers import AutoTokenizer, PreTrainedTokenizerFast"
   ],
   "id": "b5acac93baacec66",
   "outputs": [],
   "execution_count": 57
  },
  {
   "metadata": {},
   "cell_type": "markdown",
   "source": "## Data loading",
   "id": "264382bafc76e676"
  },
  {
   "cell_type": "code",
   "id": "initial_id",
   "metadata": {
    "collapsed": true,
    "ExecuteTime": {
     "end_time": "2025-04-08T06:16:58.257547Z",
     "start_time": "2025-04-08T06:16:53.717752Z"
    }
   },
   "source": [
    "dataset = load_dataset(\"rotten_tomatoes\", split=\"train\")\n",
    "\n",
    "\n",
    "def get_training_corpus():\n",
    "    for i in range(0, len(dataset), 1000):\n",
    "        yield dataset[i: i + 1000][\"text\"]"
   ],
   "outputs": [],
   "execution_count": 58
  },
  {
   "metadata": {},
   "cell_type": "markdown",
   "source": "## Initialization/training",
   "id": "5c68eb4070e02039"
  },
  {
   "metadata": {
    "ExecuteTime": {
     "end_time": "2025-04-08T06:16:58.342604Z",
     "start_time": "2025-04-08T06:16:58.261092Z"
    }
   },
   "cell_type": "code",
   "source": [
    "tokenizer = Tokenizer(models.BPE(unk_token=\"<UNK>\"))\n",
    "tokenizer.pre_tokenizer = pre_tokenizers.ByteLevel(add_prefix_space=True)\n",
    "special_tokens = [\"<PAD>\", \"<EOS>\", \"<UNK>\"]\n",
    "trainer = trainers.BpeTrainer(\n",
    "    vocab_size=1024,\n",
    "    special_tokens=special_tokens,\n",
    "    initial_alphabet=pre_tokenizers.ByteLevel.alphabet()\n",
    ")\n",
    "tokenizer.train_from_iterator(get_training_corpus(), trainer=trainer)\n",
    "tokenizer.post_processor = processors.ByteLevel(trim_offsets=False)\n",
    "tokenizer.decoder = decoders.ByteLevel()"
   ],
   "id": "c6403cb857fa2909",
   "outputs": [
    {
     "name": "stdout",
     "output_type": "stream",
     "text": [
      "\n",
      "\n",
      "\n"
     ]
    }
   ],
   "execution_count": 59
  },
  {
   "metadata": {},
   "cell_type": "markdown",
   "source": "## Testing",
   "id": "c15547d4842797f3"
  },
  {
   "metadata": {
    "ExecuteTime": {
     "end_time": "2025-04-08T06:16:58.348106Z",
     "start_time": "2025-04-08T06:16:58.346317Z"
    }
   },
   "cell_type": "code",
   "source": [
    "encoding = tokenizer.encode(\"Let's test this tokenizer.\")\n",
    "print(encoding.tokens)\n",
    "print(encoding.ids)\n",
    "print(tokenizer.decode(encoding.ids))\n",
    "print(len(tokenizer.get_vocab()))\n",
    "print(tokenizer.get_vocab_size())"
   ],
   "id": "a37327cf8395b8ab",
   "outputs": [
    {
     "name": "stdout",
     "output_type": "stream",
     "text": [
      "['Ġ', 'L', 'et', \"'s\", 'Ġt', 'est', 'Ġthis', 'Ġto', 'k', 'en', 'iz', 'er', '.']\n",
      "[223, 46, 328, 308, 259, 375, 355, 296, 77, 271, 577, 264, 16]\n",
      " Let's test this tokenizer.\n",
      "1024\n",
      "1024\n"
     ]
    }
   ],
   "execution_count": 60
  },
  {
   "metadata": {},
   "cell_type": "markdown",
   "source": "## Saving",
   "id": "fdc2d8d7e9e6bf6c"
  },
  {
   "metadata": {
    "ExecuteTime": {
     "end_time": "2025-04-08T06:16:58.445075Z",
     "start_time": "2025-04-08T06:16:58.440989Z"
    }
   },
   "cell_type": "code",
   "source": [
    "wrapped_tokenizer = PreTrainedTokenizerFast(\n",
    "    tokenizer_object=tokenizer,\n",
    "    pad_token=\"<PAD>\",\n",
    "    eos_token=\"<EOS>\",\n",
    "    unk_token=\"<UNK>\",\n",
    "    # cls_token=\"[CLS]\",\n",
    "    # sep_token=\"[SEP]\",\n",
    "    # mask_token=\"[MASK]\",\n",
    ")\n",
    "\n",
    "wrapped_tokenizer.save_pretrained(\"../../saved_models/tokenizers/rotten_tomatoes_bpe_style\")"
   ],
   "id": "1cf126076556d1f9",
   "outputs": [
    {
     "data": {
      "text/plain": [
       "('../../saved_models/tokenizers/rotten_tomatoes_bpe_style/tokenizer_config.json',\n",
       " '../../saved_models/tokenizers/rotten_tomatoes_bpe_style/special_tokens_map.json',\n",
       " '../../saved_models/tokenizers/rotten_tomatoes_bpe_style/tokenizer.json')"
      ]
     },
     "execution_count": 61,
     "metadata": {},
     "output_type": "execute_result"
    }
   ],
   "execution_count": 61
  },
  {
   "metadata": {
    "ExecuteTime": {
     "end_time": "2025-04-08T06:16:58.490560Z",
     "start_time": "2025-04-08T06:16:58.486446Z"
    }
   },
   "cell_type": "code",
   "source": [
    "tok = AutoTokenizer.from_pretrained(\"../../saved_models/tokenizers/rotten_tomatoes_bpe_style\")\n",
    "\n",
    "tokens = tok.tokenize(\"Test number 2.!@#$%^&*()\")\n",
    "\n",
    "print(tokens)\n",
    "ids = tok.convert_tokens_to_ids(tokens)\n",
    "print(ids)\n",
    "decoded_string = tok.decode(ids)\n",
    "print(decoded_string)\n",
    "print(len(tok.get_vocab()))"
   ],
   "id": "c3bd6341db5e0347",
   "outputs": [
    {
     "name": "stdout",
     "output_type": "stream",
     "text": [
      "['T', 'est', 'Ġn', 'um', 'ber', 'Ġ', '2', '.', '!', '@', '#', '$', '%', '^', '&', '*', '(', ')']\n",
      "[54, 375, 307, 376, 702, 223, 20, 16, 3, 34, 5, 6, 7, 64, 8, 12, 10, 11]\n",
      "Test number 2.!@#$%^&*()\n",
      "1024\n"
     ]
    }
   ],
   "execution_count": 62
  }
 ],
 "metadata": {
  "kernelspec": {
   "display_name": "Python 3",
   "language": "python",
   "name": "python3"
  },
  "language_info": {
   "codemirror_mode": {
    "name": "ipython",
    "version": 2
   },
   "file_extension": ".py",
   "mimetype": "text/x-python",
   "name": "python",
   "nbconvert_exporter": "python",
   "pygments_lexer": "ipython2",
   "version": "2.7.6"
  }
 },
 "nbformat": 4,
 "nbformat_minor": 5
}
